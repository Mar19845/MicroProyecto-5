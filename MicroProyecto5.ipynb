{
 "cells": [
  {
   "cell_type": "markdown",
   "id": "5d4be42f-8216-4423-aa80-77733934ac9a",
   "metadata": {},
   "source": [
    "## Universidad del Valle de Guatemala\n",
    "#### Modelado y Simulacion\n",
    "#### MICRO PROYECTO 5\n",
    "###### Juan Marroquin 19845\n",
    "###### Carlos Raxtum 19721"
   ]
  },
  {
   "cell_type": "markdown",
   "id": "bcf6ea9f-b438-48b3-a70c-278636cdc3e9",
   "metadata": {},
   "source": [
    "import libraries"
   ]
  },
  {
   "cell_type": "code",
   "execution_count": 1,
   "id": "b87e5fde-06ed-4c02-b540-582104199630",
   "metadata": {},
   "outputs": [],
   "source": [
    "import numpy as np\n",
    "import math\n",
    "import random"
   ]
  },
  {
   "cell_type": "markdown",
   "id": "f7986918-a0c3-44c9-b461-14c83b01404b",
   "metadata": {},
   "source": [
    "#### Ejercicio 1\n",
    "\n",
    "##### Ver imagen adjunta en la carpeta"
   ]
  },
  {
   "cell_type": "markdown",
   "id": "33b88682-e10b-4d97-bba2-4f3d848b56ea",
   "metadata": {},
   "source": [
    "#### Ejercicio 2\n",
    "\n",
    "##### Ver imagen adjunta en la carpeta"
   ]
  },
  {
   "cell_type": "markdown",
   "id": "b959e96d-7dec-4be7-a202-61efb4001dd0",
   "metadata": {},
   "source": [
    "#### Ejercicio 3\n",
    "\n",
    "Escriba un programa que calcule el valor esperado de una variable aleatoria exponencial utilizando el método estratificado. Escoja tres estratos (intervalos) de 0 a 1, de 1 a 3, y de 3 a infinito."
   ]
  },
  {
   "cell_type": "code",
   "execution_count": 9,
   "id": "e1006741-1011-4372-83ec-7465b3423c92",
   "metadata": {},
   "outputs": [
    {
     "name": "stdout",
     "output_type": "stream",
     "text": [
      "Valor esperado 1.2334665739512078\n"
     ]
    }
   ],
   "source": [
    "LambdaVal = 10\n",
    "result = []\n",
    "\n",
    "for i in range(limite):\n",
    "  u = random.random()\n",
    "  if i < 1:\n",
    "    res = (1 / LambdaVal) * u + ((LambdaVal - 1) / LambdaVal)\n",
    "  elif i < 3:\n",
    "    res = (3 / LambdaVal) * u + ((LambdaVal - 4) / LambdaVal)\n",
    "  else:\n",
    "    res = ((LambdaVal - 4) / LambdaVal) * u\n",
    "\n",
    "  result.append(-1*np.log(result))\n",
    "\n",
    "val_expected = sum(result) / len(result)\n",
    "print(\"Valor esperado: \", val_expected)"
   ]
  },
  {
   "cell_type": "markdown",
   "id": "edbf3797-c4d7-44ce-93a1-7f97c7a7a836",
   "metadata": {},
   "source": [
    "#### Ejercicio 4\n",
    "\n",
    "Sean X y Y variables aleatorias exponenciales independientes, donde X tiene media 1 y Y tiene media 2, y supóngase que se quiere utilizar simulación para estimar P(X + Y > 4). Si se utiliza la esperanza condicional para reducir la varianza del estimador, ¿condicionaría sobre X o sobre Y? Explique (o demuestre) su razonamiento."
   ]
  },
  {
   "cell_type": "markdown",
   "id": "7f10e496-9379-4621-aaae-69cb932e9b5c",
   "metadata": {},
   "source": [
    "#### Ejercicio 5\n",
    "Vea el siguiente video del minuto 3:12 a 19:00\n",
    "* https://youtu.be/PMFWQigpgZA?t=192\n",
    "También vea el siguiente video del minuto 0:00 al 13:57\n",
    "* https://youtu.be/yQ5rSbTXADc\n",
    "\n",
    "Y responda las siguientes preguntas\n",
    "* ¿Cómo definiría, usando sus propias palabras, el campo de la inteligencia artificial?\n",
    "* ¿Cómo definiría, usando sus propias palabras, el campo de “simulation modeling”?\n",
    "* ¿Cuál es la diferencia entre Inteligencia Artificial y Simulation Modeling?\n",
    "* ¿Cómo se pueden combinar la inteligencia artificial y el simulation modeling?\n",
    "* ¿Qué aplicaciones conjuntas pueden tener estos dos campos? ¿Cómo?\n",
    "¿Qué aplicaciones conjuntas pueden tener estos dos campos? ¿Cómo?\n"
   ]
  },
  {
   "cell_type": "markdown",
   "id": "c0af5f69-4c1b-4151-a58b-30fa920eb8d4",
   "metadata": {},
   "source": [
    "**Cómo definiría, usando sus propias palabras, el campo de la inteligencia artificial?**\n",
    "\n",
    "Es el campo que combina uno o varios algoritmos con el proposito de crear modelos y aplicaciones para simular capacidades de la mente humana y agilizar nuestras tareas"
   ]
  },
  {
   "cell_type": "markdown",
   "id": "c77024ae-bc3e-4c39-9d90-e95a0983bb7d",
   "metadata": {},
   "source": [
    "**¿Cómo definiría, usando sus propias palabras, el campo de “simulation modeling”?**\n",
    "\n",
    "Es el proceso de crear y analizar un prototiopo de un modelo para poder predecir su rendimineto con variables del mundo real. Esto nos ayuda a simular N escenarios para poder tomar la mejor decisión\n"
   ]
  },
  {
   "cell_type": "markdown",
   "id": "5b944842-bf78-451a-8502-3a7f668f40c5",
   "metadata": {},
   "source": [
    "**¿Cuál es la diferencia entre Inteligencia Artificial y Simulation Modeling?**\n",
    "\n",
    "La inteligencia artificial trata de replicar funciones de la inteligencia humana mientras que el simulation modeling solo nos permite crear escenarios para observar un evento con diferentes variables"
   ]
  },
  {
   "cell_type": "markdown",
   "id": "9990a6c1-cd51-456e-be47-75d31eed2539",
   "metadata": {},
   "source": [
    "**¿Cómo se pueden combinar la inteligencia artificial y el simulation modeling?**\n",
    "\n",
    "Dado que el simulation modeling nos permite trabajar con escenarios, podemos combinar ambas ramas a modo de que dado los resultados de un evento con n variables un inteligencia artificial interprete y tome decisiones en base a estos resultados"
   ]
  },
  {
   "cell_type": "markdown",
   "id": "9ff7770a-4131-4119-8d40-cb7fbc605aa5",
   "metadata": {},
   "source": [
    "**¿Qué aplicaciones conjuntas pueden tener estos dos campos? ¿Cómo? ¿Qué aplicaciones conjuntas pueden tener estos dos campos? ¿Cómo?**\n",
    "\n",
    "La prediccion y accion contra tormentas y hurracanes seria un gran ejemplo, ya que se podrian simular n eventos en un modelo de simulation modeling y pasarle los resultados a una IA para que este interprete y prediga en base a estos resultados para tomar una decision."
   ]
  },
  {
   "cell_type": "code",
   "execution_count": null,
   "id": "3d4c689d-3a12-4325-9312-701fdc71a727",
   "metadata": {},
   "outputs": [],
   "source": []
  }
 ],
 "metadata": {
  "kernelspec": {
   "display_name": "Python 3 (ipykernel)",
   "language": "python",
   "name": "python3"
  },
  "language_info": {
   "codemirror_mode": {
    "name": "ipython",
    "version": 3
   },
   "file_extension": ".py",
   "mimetype": "text/x-python",
   "name": "python",
   "nbconvert_exporter": "python",
   "pygments_lexer": "ipython3",
   "version": "3.9.13"
  }
 },
 "nbformat": 4,
 "nbformat_minor": 5
}
